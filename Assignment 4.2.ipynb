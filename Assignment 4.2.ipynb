{
 "cells": [
  {
   "cell_type": "code",
   "execution_count": 4,
   "metadata": {},
   "outputs": [
    {
     "name": "stdout",
     "output_type": "stream",
     "text": [
      "[1, 5, 6, 11]\n"
     ]
    }
   ],
   "source": [
    "#Assignment 4.2:\n",
    "# Problem Statement 1: Write a Python program using function concept that maps list of words into a list of integers representing the lengths of the corresponding words.\n",
    "# Hint: If a list [ ab,cde,erty] is passed on to the python function output should come as [2,3,4]; Here 2,3 and 4 are the lengths of the words in the list.\n",
    "\n",
    "def length_of_words(list):\n",
    "    templist = []\n",
    "    for word in list:\n",
    "        templist.append(len(word))\n",
    "    return templist\n",
    "print (length_of_words(['I','learn','python', 'programming']))"
   ]
  },
  {
   "cell_type": "code",
   "execution_count": 29,
   "metadata": {},
   "outputs": [
    {
     "name": "stdout",
     "output_type": "stream",
     "text": [
      "Enter a Character: B\n",
      "B is not a Vowel\n"
     ]
    }
   ],
   "source": [
    "#Problem Statement 2:\n",
    "# Write a Python function which takes a character (i.e. a string of length 1) and returns True if it is a vowel, False otherwise.\n",
    "\n",
    "def vowelcheck(ch):\n",
    "    lvowel = ['a','e','i','o','u']\n",
    "    uvowel = ['A','E','I','O','U']\n",
    "    if (ch in lvowel) or (ch in uvowel):\n",
    "        return True\n",
    "    else:\n",
    "        return False\n",
    "vchar=input('Enter a Character: ')\n",
    "if (vowelcheck(vchar)==True):\n",
    "    print(vchar,'is a Vowel')\n",
    "else:\n",
    "    print(vchar,'is not a Vowel')"
   ]
  }
 ],
 "metadata": {
  "kernelspec": {
   "display_name": "Python 3",
   "language": "python",
   "name": "python3"
  },
  "language_info": {
   "codemirror_mode": {
    "name": "ipython",
    "version": 3
   },
   "file_extension": ".py",
   "mimetype": "text/x-python",
   "name": "python",
   "nbconvert_exporter": "python",
   "pygments_lexer": "ipython3",
   "version": "3.6.3"
  }
 },
 "nbformat": 4,
 "nbformat_minor": 2
}
